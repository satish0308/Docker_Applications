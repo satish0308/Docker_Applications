{
 "cells": [
  {
   "cell_type": "code",
   "execution_count": 1,
   "id": "709213f3-d885-4892-b8ab-b3ed0dcbd9e5",
   "metadata": {},
   "outputs": [],
   "source": [
    "from pyspark.sql import SparkSession"
   ]
  },
  {
   "cell_type": "code",
   "execution_count": 2,
   "id": "975770d1-99bb-4c73-b329-4fc5563b8e72",
   "metadata": {},
   "outputs": [
    {
     "name": "stderr",
     "output_type": "stream",
     "text": [
      "25/01/11 20:27:24 WARN Utils: Your hostname, satish-lenovo resolves to a loopback address: 127.0.1.1; using 192.168.1.5 instead (on interface wlp0s20f3)\n",
      "25/01/11 20:27:24 WARN Utils: Set SPARK_LOCAL_IP if you need to bind to another address\n"
     ]
    },
    {
     "name": "stdout",
     "output_type": "stream",
     "text": [
      ":: loading settings :: url = jar:file:/home/satish/anaconda3/lib/python3.12/site-packages/pyspark/jars/ivy-2.5.1.jar!/org/apache/ivy/core/settings/ivysettings.xml\n"
     ]
    },
    {
     "name": "stderr",
     "output_type": "stream",
     "text": [
      "Ivy Default Cache set to: /home/satish/.ivy2/cache\n",
      "The jars for the packages stored in: /home/satish/.ivy2/jars\n",
      "mysql#mysql-connector-java added as a dependency\n",
      ":: resolving dependencies :: org.apache.spark#spark-submit-parent-5531b1c8-18f4-498b-981f-4bff79465883;1.0\n",
      "\tconfs: [default]\n",
      "\tfound mysql#mysql-connector-java;8.0.32 in central\n",
      "\tfound com.mysql#mysql-connector-j;8.0.32 in central\n",
      "\tfound com.google.protobuf#protobuf-java;3.21.9 in central\n",
      ":: resolution report :: resolve 183ms :: artifacts dl 4ms\n",
      "\t:: modules in use:\n",
      "\tcom.google.protobuf#protobuf-java;3.21.9 from central in [default]\n",
      "\tcom.mysql#mysql-connector-j;8.0.32 from central in [default]\n",
      "\tmysql#mysql-connector-java;8.0.32 from central in [default]\n",
      "\t---------------------------------------------------------------------\n",
      "\t|                  |            modules            ||   artifacts   |\n",
      "\t|       conf       | number| search|dwnlded|evicted|| number|dwnlded|\n",
      "\t---------------------------------------------------------------------\n",
      "\t|      default     |   3   |   0   |   0   |   0   ||   2   |   0   |\n",
      "\t---------------------------------------------------------------------\n",
      ":: retrieving :: org.apache.spark#spark-submit-parent-5531b1c8-18f4-498b-981f-4bff79465883\n",
      "\tconfs: [default]\n",
      "\t0 artifacts copied, 2 already retrieved (0kB/7ms)\n",
      "25/01/11 20:27:24 WARN NativeCodeLoader: Unable to load native-hadoop library for your platform... using builtin-java classes where applicable\n",
      "Setting default log level to \"WARN\".\n",
      "To adjust logging level use sc.setLogLevel(newLevel). For SparkR, use setLogLevel(newLevel).\n"
     ]
    }
   ],
   "source": [
    "from pyspark.sql import SparkSession\n",
    "\n",
    "spark = SparkSession.builder \\\n",
    "    .appName(\"JDBC Example\") \\\n",
    "    .config(\"spark.jars.packages\", \"mysql:mysql-connector-java:8.0.32\") \\\n",
    "    .getOrCreate()"
   ]
  },
  {
   "cell_type": "code",
   "execution_count": 3,
   "id": "a97dcab8",
   "metadata": {},
   "outputs": [],
   "source": [
    "df=spark.read.csv('/media/satish/New Volume/docker_data/docker-hadoop-spark/breweries.csv',header=True)"
   ]
  },
  {
   "cell_type": "code",
   "execution_count": 4,
   "id": "ba04c24a",
   "metadata": {},
   "outputs": [
    {
     "name": "stdout",
     "output_type": "stream",
     "text": [
      "+---+--------------------+-------------+-----+---+\n",
      "|_c0|                name|         city|state| id|\n",
      "+---+--------------------+-------------+-----+---+\n",
      "|  0|  NorthGate Brewing |  Minneapolis|   MN|  0|\n",
      "|  1|Against the Grain...|   Louisville|   KY|  1|\n",
      "|  2|Jack's Abby Craft...|   Framingham|   MA|  2|\n",
      "|  3|Mike Hess Brewing...|    San Diego|   CA|  3|\n",
      "|  4|Fort Point Beer C...|San Francisco|   CA|  4|\n",
      "|  5|COAST Brewing Com...|   Charleston|   SC|  5|\n",
      "|  6|Great Divide Brew...|       Denver|   CO|  6|\n",
      "|  7|    Tapistry Brewing|     Bridgman|   MI|  7|\n",
      "|  8|    Big Lake Brewing|      Holland|   MI|  8|\n",
      "|  9|The Mitten Brewin...| Grand Rapids|   MI|  9|\n",
      "| 10|      Brewery Vivant| Grand Rapids|   MI| 10|\n",
      "| 11|    Petoskey Brewing|     Petoskey|   MI| 11|\n",
      "| 12|  Blackrocks Brewery|    Marquette|   MI| 12|\n",
      "| 13|Perrin Brewing Co...|Comstock Park|   MI| 13|\n",
      "| 14|Witch's Hat Brewi...|   South Lyon|   MI| 14|\n",
      "| 15|Founders Brewing ...| Grand Rapids|   MI| 15|\n",
      "| 16|   Flat 12 Bierwerks| Indianapolis|   IN| 16|\n",
      "| 17|Tin Man Brewing C...|   Evansville|   IN| 17|\n",
      "| 18|Black Acre Brewin...| Indianapolis|   IN| 18|\n",
      "| 19|   Brew Link Brewing|   Plainfield|   IN| 19|\n",
      "+---+--------------------+-------------+-----+---+\n",
      "only showing top 20 rows\n",
      "\n"
     ]
    },
    {
     "name": "stderr",
     "output_type": "stream",
     "text": [
      "25/01/11 20:27:30 WARN CSVHeaderChecker: CSV header does not conform to the schema.\n",
      " Header: , name, city, state, id\n",
      " Schema: _c0, name, city, state, id\n",
      "Expected: _c0 but found: \n",
      "CSV file: file:///media/satish/New%20Volume/docker_data/docker-hadoop-spark/breweries.csv\n"
     ]
    }
   ],
   "source": [
    "df.show()"
   ]
  },
  {
   "cell_type": "code",
   "execution_count": 5,
   "id": "3fc26e18",
   "metadata": {},
   "outputs": [
    {
     "name": "stderr",
     "output_type": "stream",
     "text": [
      "/home/satish/anaconda3/lib/python3.12/site-packages/pyspark/sql/dataframe.py:329: FutureWarning: Deprecated in 2.0, use createOrReplaceTempView instead.\n",
      "  warnings.warn(\"Deprecated in 2.0, use createOrReplaceTempView instead.\", FutureWarning)\n"
     ]
    }
   ],
   "source": [
    "df.registerTempTable('mydata')"
   ]
  },
  {
   "cell_type": "code",
   "execution_count": 6,
   "id": "27cdc5e6",
   "metadata": {},
   "outputs": [],
   "source": [
    "data=spark.sql(\"SELECT name FROM mydata\")"
   ]
  },
  {
   "cell_type": "code",
   "execution_count": 7,
   "id": "8164ec59",
   "metadata": {},
   "outputs": [
    {
     "name": "stdout",
     "output_type": "stream",
     "text": [
      "+--------------------+\n",
      "|                name|\n",
      "+--------------------+\n",
      "|  NorthGate Brewing |\n",
      "|Against the Grain...|\n",
      "|Jack's Abby Craft...|\n",
      "|Mike Hess Brewing...|\n",
      "|Fort Point Beer C...|\n",
      "|COAST Brewing Com...|\n",
      "|Great Divide Brew...|\n",
      "|    Tapistry Brewing|\n",
      "|    Big Lake Brewing|\n",
      "|The Mitten Brewin...|\n",
      "|      Brewery Vivant|\n",
      "|    Petoskey Brewing|\n",
      "|  Blackrocks Brewery|\n",
      "|Perrin Brewing Co...|\n",
      "|Witch's Hat Brewi...|\n",
      "|Founders Brewing ...|\n",
      "|   Flat 12 Bierwerks|\n",
      "|Tin Man Brewing C...|\n",
      "|Black Acre Brewin...|\n",
      "|   Brew Link Brewing|\n",
      "+--------------------+\n",
      "only showing top 20 rows\n",
      "\n"
     ]
    }
   ],
   "source": [
    "data.show()"
   ]
  },
  {
   "cell_type": "code",
   "execution_count": 8,
   "id": "a8e531eb",
   "metadata": {},
   "outputs": [],
   "source": [
    "df.createOrReplaceTempView('mydata2')"
   ]
  },
  {
   "cell_type": "code",
   "execution_count": 9,
   "id": "d53f5307",
   "metadata": {},
   "outputs": [
    {
     "name": "stdout",
     "output_type": "stream",
     "text": [
      "+---+--------------------+-------------+-----+---+\n",
      "|_c0|                name|         city|state| id|\n",
      "+---+--------------------+-------------+-----+---+\n",
      "|  0|  NorthGate Brewing |  Minneapolis|   MN|  0|\n",
      "|  1|Against the Grain...|   Louisville|   KY|  1|\n",
      "|  2|Jack's Abby Craft...|   Framingham|   MA|  2|\n",
      "|  3|Mike Hess Brewing...|    San Diego|   CA|  3|\n",
      "|  4|Fort Point Beer C...|San Francisco|   CA|  4|\n",
      "|  5|COAST Brewing Com...|   Charleston|   SC|  5|\n",
      "|  6|Great Divide Brew...|       Denver|   CO|  6|\n",
      "|  7|    Tapistry Brewing|     Bridgman|   MI|  7|\n",
      "|  8|    Big Lake Brewing|      Holland|   MI|  8|\n",
      "|  9|The Mitten Brewin...| Grand Rapids|   MI|  9|\n",
      "| 10|      Brewery Vivant| Grand Rapids|   MI| 10|\n",
      "| 11|    Petoskey Brewing|     Petoskey|   MI| 11|\n",
      "| 12|  Blackrocks Brewery|    Marquette|   MI| 12|\n",
      "| 13|Perrin Brewing Co...|Comstock Park|   MI| 13|\n",
      "| 14|Witch's Hat Brewi...|   South Lyon|   MI| 14|\n",
      "| 15|Founders Brewing ...| Grand Rapids|   MI| 15|\n",
      "| 16|   Flat 12 Bierwerks| Indianapolis|   IN| 16|\n",
      "| 17|Tin Man Brewing C...|   Evansville|   IN| 17|\n",
      "| 18|Black Acre Brewin...| Indianapolis|   IN| 18|\n",
      "| 19|   Brew Link Brewing|   Plainfield|   IN| 19|\n",
      "+---+--------------------+-------------+-----+---+\n",
      "only showing top 20 rows\n",
      "\n"
     ]
    },
    {
     "name": "stderr",
     "output_type": "stream",
     "text": [
      "25/01/11 20:27:30 WARN CSVHeaderChecker: CSV header does not conform to the schema.\n",
      " Header: , name, city, state, id\n",
      " Schema: _c0, name, city, state, id\n",
      "Expected: _c0 but found: \n",
      "CSV file: file:///media/satish/New%20Volume/docker_data/docker-hadoop-spark/breweries.csv\n"
     ]
    }
   ],
   "source": [
    "spark.sql(\"select * from mydata2\").show()"
   ]
  },
  {
   "cell_type": "code",
   "execution_count": 10,
   "id": "7f7f6ffb",
   "metadata": {},
   "outputs": [
    {
     "name": "stderr",
     "output_type": "stream",
     "text": [
      "25/01/11 20:27:30 WARN CSVHeaderChecker: CSV header does not conform to the schema.\n",
      " Header: , name, city, state, id\n",
      " Schema: _c0, name, city, state, id\n",
      "Expected: _c0 but found: \n",
      "CSV file: file:///media/satish/New%20Volume/docker_data/docker-hadoop-spark/breweries.csv\n"
     ]
    }
   ],
   "source": [
    "df=df.toPandas()"
   ]
  },
  {
   "cell_type": "code",
   "execution_count": 11,
   "id": "e18c24ab",
   "metadata": {},
   "outputs": [
    {
     "data": {
      "text/html": [
       "<div>\n",
       "<style scoped>\n",
       "    .dataframe tbody tr th:only-of-type {\n",
       "        vertical-align: middle;\n",
       "    }\n",
       "\n",
       "    .dataframe tbody tr th {\n",
       "        vertical-align: top;\n",
       "    }\n",
       "\n",
       "    .dataframe thead th {\n",
       "        text-align: right;\n",
       "    }\n",
       "</style>\n",
       "<table border=\"1\" class=\"dataframe\">\n",
       "  <thead>\n",
       "    <tr style=\"text-align: right;\">\n",
       "      <th></th>\n",
       "      <th>_c0</th>\n",
       "      <th>name</th>\n",
       "      <th>city</th>\n",
       "      <th>state</th>\n",
       "      <th>id</th>\n",
       "    </tr>\n",
       "  </thead>\n",
       "  <tbody>\n",
       "    <tr>\n",
       "      <th>0</th>\n",
       "      <td>0</td>\n",
       "      <td>NorthGate Brewing</td>\n",
       "      <td>Minneapolis</td>\n",
       "      <td>MN</td>\n",
       "      <td>0</td>\n",
       "    </tr>\n",
       "    <tr>\n",
       "      <th>1</th>\n",
       "      <td>1</td>\n",
       "      <td>Against the Grain Brewery</td>\n",
       "      <td>Louisville</td>\n",
       "      <td>KY</td>\n",
       "      <td>1</td>\n",
       "    </tr>\n",
       "    <tr>\n",
       "      <th>2</th>\n",
       "      <td>2</td>\n",
       "      <td>Jack's Abby Craft Lagers</td>\n",
       "      <td>Framingham</td>\n",
       "      <td>MA</td>\n",
       "      <td>2</td>\n",
       "    </tr>\n",
       "    <tr>\n",
       "      <th>3</th>\n",
       "      <td>3</td>\n",
       "      <td>Mike Hess Brewing Company</td>\n",
       "      <td>San Diego</td>\n",
       "      <td>CA</td>\n",
       "      <td>3</td>\n",
       "    </tr>\n",
       "    <tr>\n",
       "      <th>4</th>\n",
       "      <td>4</td>\n",
       "      <td>Fort Point Beer Company</td>\n",
       "      <td>San Francisco</td>\n",
       "      <td>CA</td>\n",
       "      <td>4</td>\n",
       "    </tr>\n",
       "    <tr>\n",
       "      <th>...</th>\n",
       "      <td>...</td>\n",
       "      <td>...</td>\n",
       "      <td>...</td>\n",
       "      <td>...</td>\n",
       "      <td>...</td>\n",
       "    </tr>\n",
       "    <tr>\n",
       "      <th>553</th>\n",
       "      <td>553</td>\n",
       "      <td>Covington Brewhouse</td>\n",
       "      <td>Covington</td>\n",
       "      <td>LA</td>\n",
       "      <td>553</td>\n",
       "    </tr>\n",
       "    <tr>\n",
       "      <th>554</th>\n",
       "      <td>554</td>\n",
       "      <td>Dave's Brewfarm</td>\n",
       "      <td>Wilson</td>\n",
       "      <td>WI</td>\n",
       "      <td>554</td>\n",
       "    </tr>\n",
       "    <tr>\n",
       "      <th>555</th>\n",
       "      <td>555</td>\n",
       "      <td>Ukiah Brewing Company</td>\n",
       "      <td>Ukiah</td>\n",
       "      <td>CA</td>\n",
       "      <td>555</td>\n",
       "    </tr>\n",
       "    <tr>\n",
       "      <th>556</th>\n",
       "      <td>556</td>\n",
       "      <td>Butternuts Beer and Ale</td>\n",
       "      <td>Garrattsville</td>\n",
       "      <td>NY</td>\n",
       "      <td>556</td>\n",
       "    </tr>\n",
       "    <tr>\n",
       "      <th>557</th>\n",
       "      <td>557</td>\n",
       "      <td>Sleeping Lady Brewing Company</td>\n",
       "      <td>Anchorage</td>\n",
       "      <td>AK</td>\n",
       "      <td>557</td>\n",
       "    </tr>\n",
       "  </tbody>\n",
       "</table>\n",
       "<p>558 rows × 5 columns</p>\n",
       "</div>"
      ],
      "text/plain": [
       "     _c0                           name           city state   id\n",
       "0      0             NorthGate Brewing     Minneapolis    MN    0\n",
       "1      1      Against the Grain Brewery     Louisville    KY    1\n",
       "2      2       Jack's Abby Craft Lagers     Framingham    MA    2\n",
       "3      3      Mike Hess Brewing Company      San Diego    CA    3\n",
       "4      4        Fort Point Beer Company  San Francisco    CA    4\n",
       "..   ...                            ...            ...   ...  ...\n",
       "553  553            Covington Brewhouse      Covington    LA  553\n",
       "554  554                Dave's Brewfarm         Wilson    WI  554\n",
       "555  555          Ukiah Brewing Company          Ukiah    CA  555\n",
       "556  556        Butternuts Beer and Ale  Garrattsville    NY  556\n",
       "557  557  Sleeping Lady Brewing Company      Anchorage    AK  557\n",
       "\n",
       "[558 rows x 5 columns]"
      ]
     },
     "execution_count": 11,
     "metadata": {},
     "output_type": "execute_result"
    }
   ],
   "source": [
    "df"
   ]
  },
  {
   "cell_type": "code",
   "execution_count": 12,
   "id": "8e1fc232",
   "metadata": {},
   "outputs": [
    {
     "data": {
      "text/plain": [
       "0                  [NorthGate, Brewing, ]\n",
       "1          [Against, the, Grain, Brewery]\n",
       "2           [Jack's, Abby, Craft, Lagers]\n",
       "3          [Mike, Hess, Brewing, Company]\n",
       "4            [Fort, Point, Beer, Company]\n",
       "                      ...                \n",
       "553                [Covington, Brewhouse]\n",
       "554                    [Dave's, Brewfarm]\n",
       "555             [Ukiah, Brewing, Company]\n",
       "556          [Butternuts, Beer, and, Ale]\n",
       "557    [Sleeping, Lady, Brewing, Company]\n",
       "Name: name, Length: 558, dtype: object"
      ]
     },
     "execution_count": 12,
     "metadata": {},
     "output_type": "execute_result"
    }
   ],
   "source": [
    "df['name'].str.split(\" \")"
   ]
  },
  {
   "cell_type": "code",
   "execution_count": 13,
   "id": "e276cf73",
   "metadata": {},
   "outputs": [],
   "source": [
    "df['name']=df['name'].str.strip()"
   ]
  },
  {
   "cell_type": "code",
   "execution_count": 14,
   "id": "bc5858c8",
   "metadata": {},
   "outputs": [
    {
     "data": {
      "text/html": [
       "<div>\n",
       "<style scoped>\n",
       "    .dataframe tbody tr th:only-of-type {\n",
       "        vertical-align: middle;\n",
       "    }\n",
       "\n",
       "    .dataframe tbody tr th {\n",
       "        vertical-align: top;\n",
       "    }\n",
       "\n",
       "    .dataframe thead th {\n",
       "        text-align: right;\n",
       "    }\n",
       "</style>\n",
       "<table border=\"1\" class=\"dataframe\">\n",
       "  <thead>\n",
       "    <tr style=\"text-align: right;\">\n",
       "      <th></th>\n",
       "      <th>_c0</th>\n",
       "      <th>name</th>\n",
       "      <th>city</th>\n",
       "      <th>state</th>\n",
       "      <th>id</th>\n",
       "    </tr>\n",
       "  </thead>\n",
       "  <tbody>\n",
       "    <tr>\n",
       "      <th>0</th>\n",
       "      <td>0</td>\n",
       "      <td>NorthGate Brewing</td>\n",
       "      <td>Minneapolis</td>\n",
       "      <td>MN</td>\n",
       "      <td>0</td>\n",
       "    </tr>\n",
       "    <tr>\n",
       "      <th>1</th>\n",
       "      <td>1</td>\n",
       "      <td>Against the Grain Brewery</td>\n",
       "      <td>Louisville</td>\n",
       "      <td>KY</td>\n",
       "      <td>1</td>\n",
       "    </tr>\n",
       "    <tr>\n",
       "      <th>2</th>\n",
       "      <td>2</td>\n",
       "      <td>Jack's Abby Craft Lagers</td>\n",
       "      <td>Framingham</td>\n",
       "      <td>MA</td>\n",
       "      <td>2</td>\n",
       "    </tr>\n",
       "    <tr>\n",
       "      <th>3</th>\n",
       "      <td>3</td>\n",
       "      <td>Mike Hess Brewing Company</td>\n",
       "      <td>San Diego</td>\n",
       "      <td>CA</td>\n",
       "      <td>3</td>\n",
       "    </tr>\n",
       "    <tr>\n",
       "      <th>4</th>\n",
       "      <td>4</td>\n",
       "      <td>Fort Point Beer Company</td>\n",
       "      <td>San Francisco</td>\n",
       "      <td>CA</td>\n",
       "      <td>4</td>\n",
       "    </tr>\n",
       "    <tr>\n",
       "      <th>...</th>\n",
       "      <td>...</td>\n",
       "      <td>...</td>\n",
       "      <td>...</td>\n",
       "      <td>...</td>\n",
       "      <td>...</td>\n",
       "    </tr>\n",
       "    <tr>\n",
       "      <th>553</th>\n",
       "      <td>553</td>\n",
       "      <td>Covington Brewhouse</td>\n",
       "      <td>Covington</td>\n",
       "      <td>LA</td>\n",
       "      <td>553</td>\n",
       "    </tr>\n",
       "    <tr>\n",
       "      <th>554</th>\n",
       "      <td>554</td>\n",
       "      <td>Dave's Brewfarm</td>\n",
       "      <td>Wilson</td>\n",
       "      <td>WI</td>\n",
       "      <td>554</td>\n",
       "    </tr>\n",
       "    <tr>\n",
       "      <th>555</th>\n",
       "      <td>555</td>\n",
       "      <td>Ukiah Brewing Company</td>\n",
       "      <td>Ukiah</td>\n",
       "      <td>CA</td>\n",
       "      <td>555</td>\n",
       "    </tr>\n",
       "    <tr>\n",
       "      <th>556</th>\n",
       "      <td>556</td>\n",
       "      <td>Butternuts Beer and Ale</td>\n",
       "      <td>Garrattsville</td>\n",
       "      <td>NY</td>\n",
       "      <td>556</td>\n",
       "    </tr>\n",
       "    <tr>\n",
       "      <th>557</th>\n",
       "      <td>557</td>\n",
       "      <td>Sleeping Lady Brewing Company</td>\n",
       "      <td>Anchorage</td>\n",
       "      <td>AK</td>\n",
       "      <td>557</td>\n",
       "    </tr>\n",
       "  </tbody>\n",
       "</table>\n",
       "<p>558 rows × 5 columns</p>\n",
       "</div>"
      ],
      "text/plain": [
       "     _c0                           name           city state   id\n",
       "0      0              NorthGate Brewing    Minneapolis    MN    0\n",
       "1      1      Against the Grain Brewery     Louisville    KY    1\n",
       "2      2       Jack's Abby Craft Lagers     Framingham    MA    2\n",
       "3      3      Mike Hess Brewing Company      San Diego    CA    3\n",
       "4      4        Fort Point Beer Company  San Francisco    CA    4\n",
       "..   ...                            ...            ...   ...  ...\n",
       "553  553            Covington Brewhouse      Covington    LA  553\n",
       "554  554                Dave's Brewfarm         Wilson    WI  554\n",
       "555  555          Ukiah Brewing Company          Ukiah    CA  555\n",
       "556  556        Butternuts Beer and Ale  Garrattsville    NY  556\n",
       "557  557  Sleeping Lady Brewing Company      Anchorage    AK  557\n",
       "\n",
       "[558 rows x 5 columns]"
      ]
     },
     "execution_count": 14,
     "metadata": {},
     "output_type": "execute_result"
    }
   ],
   "source": [
    "df"
   ]
  },
  {
   "cell_type": "code",
   "execution_count": 15,
   "id": "85d5b887",
   "metadata": {},
   "outputs": [],
   "source": [
    "df=spark.createDataFrame(df,['id','name','city','state','id2'])"
   ]
  },
  {
   "cell_type": "code",
   "execution_count": 16,
   "id": "07e20108",
   "metadata": {},
   "outputs": [
    {
     "name": "stdout",
     "output_type": "stream",
     "text": [
      "+---+--------------------+-------------+-----+---+\n",
      "| id|                name|         city|state|id2|\n",
      "+---+--------------------+-------------+-----+---+\n",
      "|  0|   NorthGate Brewing|  Minneapolis|   MN|  0|\n",
      "|  1|Against the Grain...|   Louisville|   KY|  1|\n",
      "|  2|Jack's Abby Craft...|   Framingham|   MA|  2|\n",
      "|  3|Mike Hess Brewing...|    San Diego|   CA|  3|\n",
      "|  4|Fort Point Beer C...|San Francisco|   CA|  4|\n",
      "|  5|COAST Brewing Com...|   Charleston|   SC|  5|\n",
      "|  6|Great Divide Brew...|       Denver|   CO|  6|\n",
      "|  7|    Tapistry Brewing|     Bridgman|   MI|  7|\n",
      "|  8|    Big Lake Brewing|      Holland|   MI|  8|\n",
      "|  9|The Mitten Brewin...| Grand Rapids|   MI|  9|\n",
      "| 10|      Brewery Vivant| Grand Rapids|   MI| 10|\n",
      "| 11|    Petoskey Brewing|     Petoskey|   MI| 11|\n",
      "| 12|  Blackrocks Brewery|    Marquette|   MI| 12|\n",
      "| 13|Perrin Brewing Co...|Comstock Park|   MI| 13|\n",
      "| 14|Witch's Hat Brewi...|   South Lyon|   MI| 14|\n",
      "| 15|Founders Brewing ...| Grand Rapids|   MI| 15|\n",
      "| 16|   Flat 12 Bierwerks| Indianapolis|   IN| 16|\n",
      "| 17|Tin Man Brewing C...|   Evansville|   IN| 17|\n",
      "| 18|Black Acre Brewin...| Indianapolis|   IN| 18|\n",
      "| 19|   Brew Link Brewing|   Plainfield|   IN| 19|\n",
      "+---+--------------------+-------------+-----+---+\n",
      "only showing top 20 rows\n",
      "\n"
     ]
    },
    {
     "name": "stderr",
     "output_type": "stream",
     "text": [
      "                                                                                \r"
     ]
    }
   ],
   "source": [
    "df.show()"
   ]
  },
  {
   "cell_type": "code",
   "execution_count": 26,
   "id": "bcefe084",
   "metadata": {},
   "outputs": [],
   "source": [
    "df2 = spark.read.format(\"jdbc\") \\\n",
    "    .option(\"url\", \"jdbc:mysql://relational.fel.cvut.cz:3306/Bupa\") \\\n",
    "    .option(\"driver\", \"com.mysql.cj.jdbc.Driver\") \\\n",
    "    .option(\"dbtable\", \"drinks\") \\\n",
    "    .option(\"user\", \"guest\") \\\n",
    "    .option(\"password\", \"ctu-relational\") \\\n",
    "    .load()\n"
   ]
  },
  {
   "cell_type": "code",
   "execution_count": 27,
   "id": "634f1b51-a324-4cf1-bf34-17e06d74fcae",
   "metadata": {},
   "outputs": [],
   "source": [
    "# df2 = spark.read.format(\"jdbc\") \\\n",
    "#     .option(\"url\", \"jdbc:mysql://relational.fel.cvut.cz:3306/TPCD\") \\\n",
    "#     .option(\"driver\", \"com.mysql.cj.jdbc.Driver\") \\\n",
    "#     .option(\"dbtable\", \"dss_partsupp\") \\\n",
    "#     .option(\"user\", \"guest\") \\\n",
    "#     .option(\"password\", \"ctu-relational\") \\\n",
    "#     .option(\"partitionColumn\", \"ps_partkey\")\\\n",
    "#     .option(\"lowerBound\", \"1\") \\\n",
    "#     .option(\"upperBound\", \"100000\") \\\n",
    "#     .option(\"numPartitions\", \"10\") \\\n",
    "#     .load()\n"
   ]
  },
  {
   "cell_type": "code",
   "execution_count": 28,
   "id": "40fe8ff2-07ae-4cb4-98b4-a06ff85bb42e",
   "metadata": {},
   "outputs": [
    {
     "name": "stderr",
     "output_type": "stream",
     "text": [
      "[Stage 7:>                                                          (0 + 1) / 1]\r"
     ]
    },
    {
     "name": "stdout",
     "output_type": "stream",
     "text": [
      "+----+-----+\n",
      "|arg1| arg2|\n",
      "+----+-----+\n",
      "|  T1|0.000|\n",
      "| T10|0.500|\n",
      "|T100|3.000|\n",
      "|T101|3.000|\n",
      "|T102|3.000|\n",
      "|T103|4.000|\n",
      "|T104|4.000|\n",
      "|T105|4.000|\n",
      "|T106|4.000|\n",
      "|T107|4.000|\n",
      "|T108|4.000|\n",
      "|T109|4.000|\n",
      "| T11|0.500|\n",
      "|T110|4.000|\n",
      "|T111|4.000|\n",
      "|T112|4.000|\n",
      "|T113|4.000|\n",
      "|T114|4.000|\n",
      "|T115|4.000|\n",
      "|T116|4.000|\n",
      "+----+-----+\n",
      "only showing top 20 rows\n",
      "\n"
     ]
    },
    {
     "name": "stderr",
     "output_type": "stream",
     "text": [
      "                                                                                \r"
     ]
    }
   ],
   "source": [
    "df2.show()"
   ]
  },
  {
   "cell_type": "code",
   "execution_count": 30,
   "id": "99dc79a3-7d69-41be-a3c8-ece584d8a3e5",
   "metadata": {},
   "outputs": [
    {
     "data": {
      "text/plain": [
       "1"
      ]
     },
     "execution_count": 30,
     "metadata": {},
     "output_type": "execute_result"
    }
   ],
   "source": [
    "df2.rdd.getNumPartitions()"
   ]
  },
  {
   "cell_type": "code",
   "execution_count": null,
   "id": "a998109b-6dee-4157-ae1c-39d51f495a75",
   "metadata": {},
   "outputs": [],
   "source": [
    "df2.rep"
   ]
  },
  {
   "cell_type": "code",
   "execution_count": null,
   "id": "07d7ff50-ac3a-4ae4-b7d4-69aabb4d2b1b",
   "metadata": {},
   "outputs": [],
   "source": [
    "df2.toPandas()"
   ]
  },
  {
   "cell_type": "code",
   "execution_count": null,
   "id": "b151ec62-3720-44ff-acd1-a8af574d6778",
   "metadata": {},
   "outputs": [],
   "source": []
  }
 ],
 "metadata": {
  "kernelspec": {
   "display_name": "Python 3 (ipykernel)",
   "language": "python",
   "name": "python3"
  },
  "language_info": {
   "codemirror_mode": {
    "name": "ipython",
    "version": 3
   },
   "file_extension": ".py",
   "mimetype": "text/x-python",
   "name": "python",
   "nbconvert_exporter": "python",
   "pygments_lexer": "ipython3",
   "version": "3.12.7"
  }
 },
 "nbformat": 4,
 "nbformat_minor": 5
}
